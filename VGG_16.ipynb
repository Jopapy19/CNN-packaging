{
  "nbformat": 4,
  "nbformat_minor": 0,
  "metadata": {
    "colab": {
      "name": "VGG-16.ipynb",
      "private_outputs": true,
      "provenance": [],
      "machine_shape": "hm"
    },
    "kernelspec": {
      "name": "python3",
      "display_name": "Python 3"
    },
    "accelerator": "GPU"
  },
  "cells": [
    {
      "cell_type": "markdown",
      "metadata": {
        "id": "hXMVFQB_jXOB"
      },
      "source": [
        "VGG-16 Model classification experiment with 2 classes of gender men and women."
      ]
    },
    {
      "cell_type": "code",
      "metadata": {
        "id": "veT9mXqEjyVF"
      },
      "source": [
        "import os \n",
        "ROOT = \"/content/drive/MyDrive/Colab Notebooks/VGG MODELS/VGG_16\"\n",
        "os.chdir(ROOT)\n",
        "os.getcwd()"
      ],
      "execution_count": null,
      "outputs": []
    },
    {
      "cell_type": "code",
      "metadata": {
        "id": "9uDxiXTqka9z"
      },
      "source": [
        "!git clone https://github.com/Jopapy19/cnn-packaging  #Cloning our github project - error beecause cone already done"
      ],
      "execution_count": null,
      "outputs": []
    },
    {
      "cell_type": "code",
      "metadata": {
        "id": "vrENCfSrvTek"
      },
      "source": [
        "%cd cnn-packaging/"
      ],
      "execution_count": null,
      "outputs": []
    },
    {
      "cell_type": "code",
      "metadata": {
        "id": "9PioXXEfkuaJ"
      },
      "source": [
        "!ls\n"
      ],
      "execution_count": null,
      "outputs": []
    },
    {
      "cell_type": "code",
      "metadata": {
        "id": "7pgOwMixudOE"
      },
      "source": [
        "os.listdir()"
      ],
      "execution_count": null,
      "outputs": []
    },
    {
      "cell_type": "code",
      "metadata": {
        "id": "wJxHciRLuim7"
      },
      "source": [
        "!python predict.py"
      ],
      "execution_count": null,
      "outputs": []
    },
    {
      "cell_type": "code",
      "metadata": {
        "id": "ICp8THV9vnWr"
      },
      "source": [
        "!python training.py\n"
      ],
      "execution_count": null,
      "outputs": []
    },
    {
      "cell_type": "code",
      "metadata": {
        "id": "t0JhymRBv4FL"
      },
      "source": [
        ""
      ],
      "execution_count": null,
      "outputs": []
    }
  ]
}